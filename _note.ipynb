{
 "cells": [
  {
   "cell_type": "code",
   "execution_count": null,
   "id": "55420a2b-019f-4b03-8f12-9522ca08f213",
   "metadata": {},
   "outputs": [],
   "source": [
    "import os\n",
    "os.environ[\"CUDA_VISIBLE_DEVICES\"] = \"7\""
   ]
  },
  {
   "cell_type": "code",
   "execution_count": null,
   "id": "b4ebeab3-6439-4e39-820e-9cdaba96d1b5",
   "metadata": {},
   "outputs": [],
   "source": [
    "from bigvgan import load_hparams_from_json, BigVGAN\n",
    "from utils import load_checkpoint\n",
    "\n",
    "\n",
    "h = load_hparams_from_json(\"configs/bigvgan_reference.json\")\n",
    "generator = BigVGAN(h)\n",
    "\n",
    "state_dict_g = load_checkpoint(\"./exp/test_v4/g_01000000\", \"cpu\")\n",
    "generator.load_state_dict(state_dict_g[\"generator\"])\n",
    "generator.remove_weight_norm()\n",
    "generator.save_pretrained(\"./pretrained_models/test\")"
   ]
  },
  {
   "cell_type": "code",
   "execution_count": null,
   "id": "1f8d236b-df50-47ff-b697-8c21797e7ff6",
   "metadata": {},
   "outputs": [],
   "source": [
    "from inference import BigVGANVocoder\n",
    "\n",
    "vocoder = BigVGANVocoder.from_pretrained(\"./pretrained_models/test\")\n",
    "vocoder = vocoder.cuda()"
   ]
  },
  {
   "cell_type": "code",
   "execution_count": null,
   "id": "8c64d525-41b2-40b7-8af5-1c3cbb442d94",
   "metadata": {},
   "outputs": [],
   "source": [
    "import librosa\n",
    "import numpy as np\n",
    "\n",
    "input_path = \"./test_input_24k.wav\"\n",
    "reference_path = \"./samples/test_output_to_be_32k.wav\"\n",
    "\n",
    "input_audio, _ = librosa.load(input_path, sr=vocoder.h.sampling_rate, mono=True)\n",
    "reference_audio, _ = librosa.load(reference_path, sr=vocoder.h.sampling_rate, mono=True)\n",
    "\n",
    "input_audio = np.clip(input_audio, a_min=-1, a_max=1)\n",
    "reference_audio = np.clip(reference_audio, a_min=-1, a_max=1)"
   ]
  },
  {
   "cell_type": "code",
   "execution_count": null,
   "id": "5cea7937-9fd3-4699-a486-7e090a455ad5",
   "metadata": {},
   "outputs": [],
   "source": [
    "speed = 1.0\n",
    "\n",
    "inputs = {\n",
    "    \"audio\": input_audio, \n",
    "    \"sampling_rate\": vocoder.h.sampling_rate, \n",
    "    \"reference_audio\": reference_audio, \n",
    "    \"reference_sampling_rate\": vocoder.h.sampling_rate, \n",
    "    \"speed\": speed, \n",
    "    \"show_progress\": True, \n",
    "}\n",
    "outputs = vocoder.synthesize2(**inputs)"
   ]
  },
  {
   "cell_type": "code",
   "execution_count": null,
   "id": "9feeee0d-b84d-43ef-a604-de0e61a2ed08",
   "metadata": {},
   "outputs": [],
   "source": [
    "import IPython.display as ipd\n",
    "\n",
    "\n",
    "display(\n",
    "    ipd.Audio(\n",
    "        reference_audio,  \n",
    "        rate=vocoder.h.sampling_rate, \n",
    "        normalize=False\n",
    "    )\n",
    ")\n",
    "\n",
    "display(\n",
    "    ipd.Audio(\n",
    "        outputs[\"audio\"].T, \n",
    "        rate=outputs[\"sampling_rate\"], \n",
    "        normalize=False\n",
    "    )\n",
    ")"
   ]
  },
  {
   "cell_type": "code",
   "execution_count": null,
   "id": "632f7c93-36eb-4438-a21d-e256332d4a48",
   "metadata": {},
   "outputs": [],
   "source": []
  },
  {
   "cell_type": "code",
   "execution_count": null,
   "id": "97c42b73-af30-4abf-ace1-4302125b62bd",
   "metadata": {},
   "outputs": [],
   "source": []
  }
 ],
 "metadata": {
  "kernelspec": {
   "display_name": "Python 3 (ipykernel)",
   "language": "python",
   "name": "python3"
  },
  "language_info": {
   "codemirror_mode": {
    "name": "ipython",
    "version": 3
   },
   "file_extension": ".py",
   "mimetype": "text/x-python",
   "name": "python",
   "nbconvert_exporter": "python",
   "pygments_lexer": "ipython3",
   "version": "3.10.11"
  }
 },
 "nbformat": 4,
 "nbformat_minor": 5
}
